{
 "cells": [
  {
   "cell_type": "code",
   "execution_count": 3,
   "id": "17a66c5b-3d13-4cdf-ad4a-e06952a50614",
   "metadata": {},
   "outputs": [],
   "source": [
    "l=['s',11,14,'the',True,False,1.20,5+6j]"
   ]
  },
  {
   "cell_type": "code",
   "execution_count": 4,
   "id": "52dd3b15-9394-4f79-86a3-f38ddbf80b7b",
   "metadata": {},
   "outputs": [
    {
     "data": {
      "text/plain": [
       "['s', 11, 14, 'the', True, False, 1.2, (5+6j)]"
      ]
     },
     "execution_count": 4,
     "metadata": {},
     "output_type": "execute_result"
    }
   ],
   "source": [
    "l"
   ]
  },
  {
   "cell_type": "code",
   "execution_count": 5,
   "id": "b38660bc-e116-41f8-a53e-ca95f6eba42a",
   "metadata": {},
   "outputs": [
    {
     "data": {
      "text/plain": [
       "['s', 11, 14, 'the', True, False, 1.2, (5+6j)]"
      ]
     },
     "execution_count": 5,
     "metadata": {},
     "output_type": "execute_result"
    }
   ],
   "source": [
    "l"
   ]
  },
  {
   "cell_type": "code",
   "execution_count": 6,
   "id": "570b9f6c-e39f-4cd1-abcb-8ce0769c5b7e",
   "metadata": {},
   "outputs": [
    {
     "data": {
      "text/plain": [
       "list"
      ]
     },
     "execution_count": 6,
     "metadata": {},
     "output_type": "execute_result"
    }
   ],
   "source": [
    "type(l)"
   ]
  },
  {
   "cell_type": "code",
   "execution_count": 7,
   "id": "c92d256f-2f07-4c2f-91a3-358b7552ad23",
   "metadata": {},
   "outputs": [
    {
     "data": {
      "text/plain": [
       "'s'"
      ]
     },
     "execution_count": 7,
     "metadata": {},
     "output_type": "execute_result"
    }
   ],
   "source": [
    "l[0]"
   ]
  },
  {
   "cell_type": "code",
   "execution_count": 8,
   "id": "3ffe7872-9d7f-45ac-953a-82b4444b67f4",
   "metadata": {},
   "outputs": [
    {
     "data": {
      "text/plain": [
       "6.0"
      ]
     },
     "execution_count": 8,
     "metadata": {},
     "output_type": "execute_result"
    }
   ],
   "source": [
    "l[7].imag"
   ]
  },
  {
   "cell_type": "code",
   "execution_count": 9,
   "id": "67d5b19b-a776-45c1-a7b3-3f90d08f0e94",
   "metadata": {},
   "outputs": [
    {
     "data": {
      "text/plain": [
       "5.0"
      ]
     },
     "execution_count": 9,
     "metadata": {},
     "output_type": "execute_result"
    }
   ],
   "source": [
    "l[7].real"
   ]
  },
  {
   "cell_type": "code",
   "execution_count": 10,
   "id": "454cd78c-1fd1-44af-8fc0-4f454e33734d",
   "metadata": {},
   "outputs": [
    {
     "data": {
      "text/plain": [
       "complex"
      ]
     },
     "execution_count": 10,
     "metadata": {},
     "output_type": "execute_result"
    }
   ],
   "source": [
    "type(l[7])"
   ]
  },
  {
   "cell_type": "code",
   "execution_count": 11,
   "id": "a2c70d04-c062-4d1f-ae60-67a8f64052cb",
   "metadata": {},
   "outputs": [
    {
     "data": {
      "text/plain": [
       "['s', 14, True, 1.2]"
      ]
     },
     "execution_count": 11,
     "metadata": {},
     "output_type": "execute_result"
    }
   ],
   "source": [
    "l[0:8:2]"
   ]
  },
  {
   "cell_type": "code",
   "execution_count": 12,
   "id": "7a4af64c-73de-427a-8cba-757f477cb79a",
   "metadata": {},
   "outputs": [
    {
     "data": {
      "text/plain": [
       "(5+6j)"
      ]
     },
     "execution_count": 12,
     "metadata": {},
     "output_type": "execute_result"
    }
   ],
   "source": [
    "l[-1]"
   ]
  },
  {
   "cell_type": "code",
   "execution_count": 13,
   "id": "3e3b4273-c0b4-4860-96e4-18331c6bcf8a",
   "metadata": {},
   "outputs": [
    {
     "ename": "IndexError",
     "evalue": "list index out of range",
     "output_type": "error",
     "traceback": [
      "\u001b[0;31m---------------------------------------------------------------------------\u001b[0m",
      "\u001b[0;31mIndexError\u001b[0m                                Traceback (most recent call last)",
      "Cell \u001b[0;32mIn[13], line 1\u001b[0m\n\u001b[0;32m----> 1\u001b[0m \u001b[43ml\u001b[49m\u001b[43m[\u001b[49m\u001b[38;5;241;43m90\u001b[39;49m\u001b[43m]\u001b[49m\n",
      "\u001b[0;31mIndexError\u001b[0m: list index out of range"
     ]
    }
   ],
   "source": [
    "l[90]"
   ]
  },
  {
   "cell_type": "code",
   "execution_count": 14,
   "id": "4d2dcb37-2766-4122-af8a-b6ac4c63cdda",
   "metadata": {},
   "outputs": [
    {
     "data": {
      "text/plain": [
       "(5+6j)"
      ]
     },
     "execution_count": 14,
     "metadata": {},
     "output_type": "execute_result"
    }
   ],
   "source": [
    "l[-1]"
   ]
  },
  {
   "cell_type": "code",
   "execution_count": 15,
   "id": "bb84f298-449d-4a7b-bd5e-395d6862f62c",
   "metadata": {},
   "outputs": [
    {
     "data": {
      "text/plain": [
       "[(5+6j), 1.2, False, True, 'the', 14, 11, 's']"
      ]
     },
     "execution_count": 15,
     "metadata": {},
     "output_type": "execute_result"
    }
   ],
   "source": [
    "l[-1:-10:-1]"
   ]
  },
  {
   "cell_type": "code",
   "execution_count": 16,
   "id": "de4f418c-fb28-4f6d-ac4b-2825daa01ee4",
   "metadata": {},
   "outputs": [
    {
     "data": {
      "text/plain": [
       "'lhellp dhaoehtohe ahgehtoero'"
      ]
     },
     "execution_count": 16,
     "metadata": {},
     "output_type": "execute_result"
    }
   ],
   "source": [
    "'lhellp dhaoehtohe ahgehtoero'"
   ]
  },
  {
   "cell_type": "code",
   "execution_count": 17,
   "id": "b1a9df18-406f-4251-8931-d367648a5904",
   "metadata": {},
   "outputs": [],
   "source": [
    "l[-1]=5"
   ]
  },
  {
   "cell_type": "code",
   "execution_count": 18,
   "id": "d8e2668d-52a2-4ca5-b1a2-fb1fcb776f4c",
   "metadata": {},
   "outputs": [
    {
     "data": {
      "text/plain": [
       "['s', 11, 14, 'the', True, False, 1.2, 5]"
      ]
     },
     "execution_count": 18,
     "metadata": {},
     "output_type": "execute_result"
    }
   ],
   "source": [
    "l"
   ]
  },
  {
   "cell_type": "code",
   "execution_count": 19,
   "id": "84047494-af4a-43a2-b291-00c58bd5dff4",
   "metadata": {},
   "outputs": [
    {
     "ename": "SyntaxError",
     "evalue": "unterminated string literal (detected at line 1) (1143284769.py, line 1)",
     "output_type": "error",
     "traceback": [
      "\u001b[0;36m  Cell \u001b[0;32mIn[19], line 1\u001b[0;36m\u001b[0m\n\u001b[0;31m    l.find('s)\u001b[0m\n\u001b[0m           ^\u001b[0m\n\u001b[0;31mSyntaxError\u001b[0m\u001b[0;31m:\u001b[0m unterminated string literal (detected at line 1)\n"
     ]
    }
   ],
   "source": [
    "l.find('s)"
   ]
  },
  {
   "cell_type": "code",
   "execution_count": 20,
   "id": "780b3a62-e19d-4f7f-8908-f74531fd349b",
   "metadata": {},
   "outputs": [],
   "source": [
    "s='kahgih'"
   ]
  },
  {
   "cell_type": "code",
   "execution_count": 21,
   "id": "99cc996d-8896-4974-a2d9-6caaa59089c1",
   "metadata": {},
   "outputs": [
    {
     "ename": "SyntaxError",
     "evalue": "unterminated string literal (detected at line 1) (220774656.py, line 1)",
     "output_type": "error",
     "traceback": [
      "\u001b[0;36m  Cell \u001b[0;32mIn[21], line 1\u001b[0;36m\u001b[0m\n\u001b[0;31m    s.find('s)\u001b[0m\n\u001b[0m           ^\u001b[0m\n\u001b[0;31mSyntaxError\u001b[0m\u001b[0;31m:\u001b[0m unterminated string literal (detected at line 1)\n"
     ]
    }
   ],
   "source": [
    "s.find('s)"
   ]
  },
  {
   "cell_type": "code",
   "execution_count": 22,
   "id": "d6fda5e9-8756-4741-9c46-65c00776a924",
   "metadata": {},
   "outputs": [
    {
     "data": {
      "text/plain": [
       "-1"
      ]
     },
     "execution_count": 22,
     "metadata": {},
     "output_type": "execute_result"
    }
   ],
   "source": [
    "s.find('s')"
   ]
  },
  {
   "cell_type": "code",
   "execution_count": 23,
   "id": "cc77fe61-bd60-40b4-95df-64bbadbfddd1",
   "metadata": {},
   "outputs": [
    {
     "ename": "SyntaxError",
     "evalue": "invalid syntax (332056385.py, line 1)",
     "output_type": "error",
     "traceback": [
      "\u001b[0;36m  Cell \u001b[0;32mIn[23], line 1\u001b[0;36m\u001b[0m\n\u001b[0;31m    l + [list]s\u001b[0m\n\u001b[0m              ^\u001b[0m\n\u001b[0;31mSyntaxError\u001b[0m\u001b[0;31m:\u001b[0m invalid syntax\n"
     ]
    }
   ],
   "source": [
    "l + [list]s"
   ]
  },
  {
   "cell_type": "code",
   "execution_count": 24,
   "id": "383feed0-29c9-4eac-a8d5-27901bf4c508",
   "metadata": {},
   "outputs": [
    {
     "data": {
      "text/plain": [
       "'the'"
      ]
     },
     "execution_count": 24,
     "metadata": {},
     "output_type": "execute_result"
    }
   ],
   "source": [
    "l[3]"
   ]
  },
  {
   "cell_type": "code",
   "execution_count": 25,
   "id": "08b6389f-ef70-48cf-831d-adfd8a321ff6",
   "metadata": {},
   "outputs": [
    {
     "data": {
      "text/plain": [
       "'the'"
      ]
     },
     "execution_count": 25,
     "metadata": {},
     "output_type": "execute_result"
    }
   ],
   "source": [
    "l[3]"
   ]
  },
  {
   "cell_type": "code",
   "execution_count": 26,
   "id": "345dda54-c636-4200-bc47-837166332b31",
   "metadata": {},
   "outputs": [],
   "source": [
    "l=[1,345,45,'sudh',True]"
   ]
  },
  {
   "cell_type": "code",
   "execution_count": 28,
   "id": "9b1212ce-62c5-4da8-a1ea-ed507efa4838",
   "metadata": {},
   "outputs": [
    {
     "data": {
      "text/plain": [
       "True"
      ]
     },
     "execution_count": 28,
     "metadata": {},
     "output_type": "execute_result"
    }
   ],
   "source": [
    "l[4]"
   ]
  },
  {
   "cell_type": "code",
   "execution_count": 4,
   "id": "c0795f27-1b39-458e-b85e-a3e6720fdec8",
   "metadata": {},
   "outputs": [
    {
     "ename": "NameError",
     "evalue": "name 'l' is not defined",
     "output_type": "error",
     "traceback": [
      "\u001b[0;31m---------------------------------------------------------------------------\u001b[0m",
      "\u001b[0;31mNameError\u001b[0m                                 Traceback (most recent call last)",
      "Cell \u001b[0;32mIn[4], line 1\u001b[0m\n\u001b[0;32m----> 1\u001b[0m \u001b[38;5;28mtype\u001b[39m(\u001b[43ml\u001b[49m)\n",
      "\u001b[0;31mNameError\u001b[0m: name 'l' is not defined"
     ]
    }
   ],
   "source": [
    "type(l)"
   ]
  },
  {
   "cell_type": "code",
   "execution_count": 5,
   "id": "e5319900-7c99-472f-9358-d315da921d81",
   "metadata": {},
   "outputs": [],
   "source": [
    "l=[1,2,'sudh',True,3+8j]"
   ]
  },
  {
   "cell_type": "code",
   "execution_count": 6,
   "id": "68eb5682-e053-4cb0-a9f9-951114f6a3af",
   "metadata": {},
   "outputs": [],
   "source": [
    "l.append(9)"
   ]
  },
  {
   "cell_type": "code",
   "execution_count": 7,
   "id": "8458dc99-2b21-4171-a454-876ede9edfb9",
   "metadata": {},
   "outputs": [
    {
     "data": {
      "text/plain": [
       "[1, 2, 'sudh', True, (3+8j), 9]"
      ]
     },
     "execution_count": 7,
     "metadata": {},
     "output_type": "execute_result"
    }
   ],
   "source": [
    "l"
   ]
  },
  {
   "cell_type": "code",
   "execution_count": 8,
   "id": "2211a953-93a6-4dd9-aeb9-8b8846480f83",
   "metadata": {},
   "outputs": [],
   "source": [
    "a=[8,6]"
   ]
  },
  {
   "cell_type": "code",
   "execution_count": 9,
   "id": "9ac605c6-be5f-4672-8da8-e594ba18937d",
   "metadata": {},
   "outputs": [],
   "source": [
    "l=a"
   ]
  },
  {
   "cell_type": "code",
   "execution_count": 10,
   "id": "172534d4-f601-4b07-b431-c3a65bbb9442",
   "metadata": {},
   "outputs": [
    {
     "ename": "NameError",
     "evalue": "name 'L' is not defined",
     "output_type": "error",
     "traceback": [
      "\u001b[0;31m---------------------------------------------------------------------------\u001b[0m",
      "\u001b[0;31mNameError\u001b[0m                                 Traceback (most recent call last)",
      "Cell \u001b[0;32mIn[10], line 1\u001b[0m\n\u001b[0;32m----> 1\u001b[0m \u001b[43mL\u001b[49m\n",
      "\u001b[0;31mNameError\u001b[0m: name 'L' is not defined"
     ]
    }
   ],
   "source": [
    "L"
   ]
  },
  {
   "cell_type": "code",
   "execution_count": 11,
   "id": "40945efa-5371-496a-a971-1d671dd6b2a0",
   "metadata": {},
   "outputs": [
    {
     "data": {
      "text/plain": [
       "[8, 6]"
      ]
     },
     "execution_count": 11,
     "metadata": {},
     "output_type": "execute_result"
    }
   ],
   "source": [
    "l"
   ]
  },
  {
   "cell_type": "code",
   "execution_count": 12,
   "id": "0d9e3ea0-e400-4ba3-904e-75fb6578f833",
   "metadata": {},
   "outputs": [],
   "source": [
    "l=[1,345,45,'sudh',True,5+7j,345.456,5,'pwskills',[3,4,5]]"
   ]
  },
  {
   "cell_type": "code",
   "execution_count": 13,
   "id": "ab97dbbe-2e7a-48f7-9be6-78f255f80773",
   "metadata": {},
   "outputs": [
    {
     "ename": "TypeError",
     "evalue": "list.extend() takes exactly one argument (0 given)",
     "output_type": "error",
     "traceback": [
      "\u001b[0;31m---------------------------------------------------------------------------\u001b[0m",
      "\u001b[0;31mTypeError\u001b[0m                                 Traceback (most recent call last)",
      "Cell \u001b[0;32mIn[13], line 1\u001b[0m\n\u001b[0;32m----> 1\u001b[0m \u001b[43ml\u001b[49m\u001b[38;5;241;43m.\u001b[39;49m\u001b[43mextend\u001b[49m\u001b[43m(\u001b[49m\u001b[43m)\u001b[49m\n",
      "\u001b[0;31mTypeError\u001b[0m: list.extend() takes exactly one argument (0 given)"
     ]
    }
   ],
   "source": [
    "l.extend()"
   ]
  },
  {
   "cell_type": "code",
   "execution_count": 14,
   "id": "0a0cfae2-fcec-4150-9003-fcc26db2ea52",
   "metadata": {},
   "outputs": [
    {
     "ename": "AttributeError",
     "evalue": "'str' object has no attribute 'extend'",
     "output_type": "error",
     "traceback": [
      "\u001b[0;31m---------------------------------------------------------------------------\u001b[0m",
      "\u001b[0;31mAttributeError\u001b[0m                            Traceback (most recent call last)",
      "Cell \u001b[0;32mIn[14], line 1\u001b[0m\n\u001b[0;32m----> 1\u001b[0m \u001b[43ml\u001b[49m\u001b[43m[\u001b[49m\u001b[38;5;241;43m3\u001b[39;49m\u001b[43m]\u001b[49m\u001b[38;5;241;43m.\u001b[39;49m\u001b[43mextend\u001b[49m()\n",
      "\u001b[0;31mAttributeError\u001b[0m: 'str' object has no attribute 'extend'"
     ]
    }
   ],
   "source": [
    "l[3].extend()"
   ]
  },
  {
   "cell_type": "code",
   "execution_count": 15,
   "id": "78ac3b04-c966-41fc-afa5-c95e48794411",
   "metadata": {},
   "outputs": [],
   "source": [
    "l.extend('sudh')"
   ]
  },
  {
   "cell_type": "code",
   "execution_count": 16,
   "id": "3a90d4b9-8693-49da-b095-9b821019a0d2",
   "metadata": {},
   "outputs": [
    {
     "data": {
      "text/plain": [
       "[1,\n",
       " 345,\n",
       " 45,\n",
       " 'sudh',\n",
       " True,\n",
       " (5+7j),\n",
       " 345.456,\n",
       " 5,\n",
       " 'pwskills',\n",
       " [3, 4, 5],\n",
       " 's',\n",
       " 'u',\n",
       " 'd',\n",
       " 'h']"
      ]
     },
     "execution_count": 16,
     "metadata": {},
     "output_type": "execute_result"
    }
   ],
   "source": [
    "l"
   ]
  },
  {
   "cell_type": "code",
   "execution_count": 17,
   "id": "4a048e21-b202-459d-827c-b3cb2ac1d893",
   "metadata": {},
   "outputs": [],
   "source": [
    "l.extend([3,4,5])"
   ]
  },
  {
   "cell_type": "code",
   "execution_count": 18,
   "id": "459355d1-eef9-454c-8b1b-c18ade3db38d",
   "metadata": {},
   "outputs": [
    {
     "data": {
      "text/plain": [
       "[1,\n",
       " 345,\n",
       " 45,\n",
       " 'sudh',\n",
       " True,\n",
       " (5+7j),\n",
       " 345.456,\n",
       " 5,\n",
       " 'pwskills',\n",
       " [3, 4, 5],\n",
       " 's',\n",
       " 'u',\n",
       " 'd',\n",
       " 'h',\n",
       " 3,\n",
       " 4,\n",
       " 5]"
      ]
     },
     "execution_count": 18,
     "metadata": {},
     "output_type": "execute_result"
    }
   ],
   "source": [
    "l"
   ]
  },
  {
   "cell_type": "code",
   "execution_count": 19,
   "id": "e996282d-add1-451d-a9d5-042984501d44",
   "metadata": {},
   "outputs": [],
   "source": [
    "l.append(9)"
   ]
  },
  {
   "cell_type": "code",
   "execution_count": 20,
   "id": "901d0b06-43d0-41bd-ba9b-460765ef7762",
   "metadata": {},
   "outputs": [
    {
     "data": {
      "text/plain": [
       "[1,\n",
       " 345,\n",
       " 45,\n",
       " 'sudh',\n",
       " True,\n",
       " (5+7j),\n",
       " 345.456,\n",
       " 5,\n",
       " 'pwskills',\n",
       " [3, 4, 5],\n",
       " 's',\n",
       " 'u',\n",
       " 'd',\n",
       " 'h',\n",
       " 3,\n",
       " 4,\n",
       " 5,\n",
       " 9]"
      ]
     },
     "execution_count": 20,
     "metadata": {},
     "output_type": "execute_result"
    }
   ],
   "source": [
    "l"
   ]
  },
  {
   "cell_type": "code",
   "execution_count": 21,
   "id": "4b302a3e-35dd-4882-a4e5-a613a90a15bc",
   "metadata": {},
   "outputs": [
    {
     "ename": "TypeError",
     "evalue": "insert expected 2 arguments, got 1",
     "output_type": "error",
     "traceback": [
      "\u001b[0;31m---------------------------------------------------------------------------\u001b[0m",
      "\u001b[0;31mTypeError\u001b[0m                                 Traceback (most recent call last)",
      "Cell \u001b[0;32mIn[21], line 1\u001b[0m\n\u001b[0;32m----> 1\u001b[0m \u001b[43ml\u001b[49m\u001b[38;5;241;43m.\u001b[39;49m\u001b[43minsert\u001b[49m\u001b[43m(\u001b[49m\u001b[38;5;241;43m1\u001b[39;49m\u001b[43m)\u001b[49m\n",
      "\u001b[0;31mTypeError\u001b[0m: insert expected 2 arguments, got 1"
     ]
    }
   ],
   "source": [
    "l.insert(1)"
   ]
  },
  {
   "cell_type": "code",
   "execution_count": 22,
   "id": "c038537f-fa0b-4a92-a5e6-7a6fe87c05ab",
   "metadata": {},
   "outputs": [
    {
     "data": {
      "text/plain": [
       "[1,\n",
       " 345,\n",
       " 45,\n",
       " 'sudh',\n",
       " True,\n",
       " (5+7j),\n",
       " 345.456,\n",
       " 5,\n",
       " 'pwskills',\n",
       " [3, 4, 5],\n",
       " 's',\n",
       " 'u',\n",
       " 'd',\n",
       " 'h',\n",
       " 3,\n",
       " 4,\n",
       " 5,\n",
       " 9]"
      ]
     },
     "execution_count": 22,
     "metadata": {},
     "output_type": "execute_result"
    }
   ],
   "source": [
    "l"
   ]
  },
  {
   "cell_type": "code",
   "execution_count": 23,
   "id": "979b91be-71d5-4596-9e52-5eafb14c7e2f",
   "metadata": {},
   "outputs": [],
   "source": [
    "k=[2,3,4]"
   ]
  },
  {
   "cell_type": "code",
   "execution_count": 24,
   "id": "d07d8e55-62b8-4b19-8802-9ab98ec9bf4f",
   "metadata": {},
   "outputs": [],
   "source": [
    "k.insert(1,'sudh')"
   ]
  },
  {
   "cell_type": "code",
   "execution_count": 25,
   "id": "4bc31ad7-a6ac-4b68-a61d-6f38cface7fc",
   "metadata": {},
   "outputs": [
    {
     "data": {
      "text/plain": [
       "[2, 'sudh', 3, 4]"
      ]
     },
     "execution_count": 25,
     "metadata": {},
     "output_type": "execute_result"
    }
   ],
   "source": [
    "k"
   ]
  },
  {
   "cell_type": "code",
   "execution_count": 28,
   "id": "678f3f36-a1a2-4f93-81c0-7b54fdeb36f2",
   "metadata": {},
   "outputs": [],
   "source": [
    "k.insert(2,[3.4,6,7])"
   ]
  },
  {
   "cell_type": "code",
   "execution_count": 29,
   "id": "a9e5bf54-17dd-48cd-915d-574f6e79365f",
   "metadata": {},
   "outputs": [
    {
     "data": {
      "text/plain": [
       "[2, 'sudh', [3.4, 6, 7], 3, 4]"
      ]
     },
     "execution_count": 29,
     "metadata": {},
     "output_type": "execute_result"
    }
   ],
   "source": [
    "k"
   ]
  },
  {
   "cell_type": "code",
   "execution_count": 30,
   "id": "86165e6f-2227-491e-a421-4f560e0fa49b",
   "metadata": {},
   "outputs": [],
   "source": [
    "k.insert(0,34)"
   ]
  },
  {
   "cell_type": "code",
   "execution_count": 31,
   "id": "97418ae3-f022-412d-b1a4-0c7874592bf0",
   "metadata": {},
   "outputs": [
    {
     "data": {
      "text/plain": [
       "[34, 2, 'sudh', [3.4, 6, 7], 3, 4]"
      ]
     },
     "execution_count": 31,
     "metadata": {},
     "output_type": "execute_result"
    }
   ],
   "source": [
    "k"
   ]
  },
  {
   "cell_type": "code",
   "execution_count": 32,
   "id": "b0c76a0e-529c-4be2-b624-a9d1b611fe5e",
   "metadata": {},
   "outputs": [
    {
     "data": {
      "text/plain": [
       "2"
      ]
     },
     "execution_count": 32,
     "metadata": {},
     "output_type": "execute_result"
    }
   ],
   "source": [
    "k.pop(1)"
   ]
  },
  {
   "cell_type": "code",
   "execution_count": 33,
   "id": "a573aa77-c013-4206-878d-d0011d4a2c52",
   "metadata": {},
   "outputs": [
    {
     "data": {
      "text/plain": [
       "[34, 'sudh', [3.4, 6, 7], 3, 4]"
      ]
     },
     "execution_count": 33,
     "metadata": {},
     "output_type": "execute_result"
    }
   ],
   "source": [
    "k"
   ]
  },
  {
   "cell_type": "code",
   "execution_count": 34,
   "id": "21e08767-b231-4bb7-9ab7-dd410f527abd",
   "metadata": {},
   "outputs": [
    {
     "ename": "TypeError",
     "evalue": "pop expected at most 1 argument, got 2",
     "output_type": "error",
     "traceback": [
      "\u001b[0;31m---------------------------------------------------------------------------\u001b[0m",
      "\u001b[0;31mTypeError\u001b[0m                                 Traceback (most recent call last)",
      "Cell \u001b[0;32mIn[34], line 1\u001b[0m\n\u001b[0;32m----> 1\u001b[0m \u001b[43mk\u001b[49m\u001b[38;5;241;43m.\u001b[39;49m\u001b[43mpop\u001b[49m\u001b[43m(\u001b[49m\u001b[38;5;241;43m2\u001b[39;49m\u001b[43m,\u001b[49m\u001b[38;5;241;43m2\u001b[39;49m\u001b[43m)\u001b[49m\n",
      "\u001b[0;31mTypeError\u001b[0m: pop expected at most 1 argument, got 2"
     ]
    }
   ],
   "source": [
    "k.pop(2,2)"
   ]
  },
  {
   "cell_type": "code",
   "execution_count": 35,
   "id": "0c850cd1-3af2-4936-807e-07f8c59a2be8",
   "metadata": {},
   "outputs": [
    {
     "data": {
      "text/plain": [
       "4"
      ]
     },
     "execution_count": 35,
     "metadata": {},
     "output_type": "execute_result"
    }
   ],
   "source": [
    "k.pop()"
   ]
  },
  {
   "cell_type": "code",
   "execution_count": 36,
   "id": "c032c0f2-bd88-4319-b415-bee80b5935be",
   "metadata": {},
   "outputs": [
    {
     "data": {
      "text/plain": [
       "[34, 'sudh', [3.4, 6, 7], 3]"
      ]
     },
     "execution_count": 36,
     "metadata": {},
     "output_type": "execute_result"
    }
   ],
   "source": [
    "k"
   ]
  },
  {
   "cell_type": "code",
   "execution_count": 37,
   "id": "2f708221-0f82-4290-86cd-aeefe635e0e2",
   "metadata": {},
   "outputs": [],
   "source": [
    "s='sudh'"
   ]
  },
  {
   "cell_type": "code",
   "execution_count": 38,
   "id": "e43fecd0-ee4f-4d80-beb1-fd81b6cc1247",
   "metadata": {},
   "outputs": [
    {
     "data": {
      "text/plain": [
       "'sd'"
      ]
     },
     "execution_count": 38,
     "metadata": {},
     "output_type": "execute_result"
    }
   ],
   "source": [
    "s[0:5:2]"
   ]
  },
  {
   "cell_type": "code",
   "execution_count": 39,
   "id": "43adc079-9bda-45b8-b543-7fa2e32cebff",
   "metadata": {},
   "outputs": [
    {
     "ename": "TypeError",
     "evalue": "list.remove() takes exactly one argument (0 given)",
     "output_type": "error",
     "traceback": [
      "\u001b[0;31m---------------------------------------------------------------------------\u001b[0m",
      "\u001b[0;31mTypeError\u001b[0m                                 Traceback (most recent call last)",
      "Cell \u001b[0;32mIn[39], line 1\u001b[0m\n\u001b[0;32m----> 1\u001b[0m \u001b[43mk\u001b[49m\u001b[38;5;241;43m.\u001b[39;49m\u001b[43mremove\u001b[49m\u001b[43m(\u001b[49m\u001b[43m)\u001b[49m\n",
      "\u001b[0;31mTypeError\u001b[0m: list.remove() takes exactly one argument (0 given)"
     ]
    }
   ],
   "source": [
    "k.remove()"
   ]
  },
  {
   "cell_type": "code",
   "execution_count": 40,
   "id": "389910ae-f51e-45a6-9c54-b5f0e7210c4c",
   "metadata": {},
   "outputs": [
    {
     "data": {
      "text/plain": [
       "[34, 'sudh', [3.4, 6, 7], 3]"
      ]
     },
     "execution_count": 40,
     "metadata": {},
     "output_type": "execute_result"
    }
   ],
   "source": [
    "k"
   ]
  },
  {
   "cell_type": "code",
   "execution_count": 41,
   "id": "f44a984a-5c57-420a-aca6-7f3d627e0f1f",
   "metadata": {},
   "outputs": [],
   "source": [
    "k.remove(34)"
   ]
  },
  {
   "cell_type": "code",
   "execution_count": 42,
   "id": "8f2e7c51-7dc4-493d-b974-8afbdd5bda42",
   "metadata": {},
   "outputs": [
    {
     "data": {
      "text/plain": [
       "['sudh', [3.4, 6, 7], 3]"
      ]
     },
     "execution_count": 42,
     "metadata": {},
     "output_type": "execute_result"
    }
   ],
   "source": [
    "k"
   ]
  },
  {
   "cell_type": "code",
   "execution_count": 43,
   "id": "8046b7af-6ed2-463a-935b-8885c06f44d6",
   "metadata": {},
   "outputs": [
    {
     "ename": "ValueError",
     "evalue": "list.remove(x): x not in list",
     "output_type": "error",
     "traceback": [
      "\u001b[0;31m---------------------------------------------------------------------------\u001b[0m",
      "\u001b[0;31mValueError\u001b[0m                                Traceback (most recent call last)",
      "Cell \u001b[0;32mIn[43], line 1\u001b[0m\n\u001b[0;32m----> 1\u001b[0m \u001b[43mk\u001b[49m\u001b[38;5;241;43m.\u001b[39;49m\u001b[43mremove\u001b[49m\u001b[43m(\u001b[49m\u001b[38;5;241;43m3.4\u001b[39;49m\u001b[43m)\u001b[49m\n",
      "\u001b[0;31mValueError\u001b[0m: list.remove(x): x not in list"
     ]
    }
   ],
   "source": [
    "k.remove(3.4)"
   ]
  },
  {
   "cell_type": "code",
   "execution_count": 47,
   "id": "0d9d1848-d654-494b-8f7b-4f5b83c3c95f",
   "metadata": {},
   "outputs": [
    {
     "data": {
      "text/plain": [
       "7"
      ]
     },
     "execution_count": 47,
     "metadata": {},
     "output_type": "execute_result"
    }
   ],
   "source": [
    "k[1][2:4].pop()"
   ]
  },
  {
   "cell_type": "code",
   "execution_count": 48,
   "id": "aa76ced9-24a5-4d7c-8d17-1991fd97a9e4",
   "metadata": {},
   "outputs": [],
   "source": [
    "k[1][2:4].append(3)"
   ]
  },
  {
   "cell_type": "code",
   "execution_count": 50,
   "id": "f7d826c4-3e16-41aa-935d-212f3e56fddd",
   "metadata": {},
   "outputs": [
    {
     "data": {
      "text/plain": [
       "['sudh', [3.4, 6, 7], 3]"
      ]
     },
     "execution_count": 50,
     "metadata": {},
     "output_type": "execute_result"
    }
   ],
   "source": [
    "k"
   ]
  },
  {
   "cell_type": "code",
   "execution_count": 51,
   "id": "91de876e-73ac-4570-8320-4bbff7e34964",
   "metadata": {},
   "outputs": [],
   "source": [
    "k.reverse()"
   ]
  },
  {
   "cell_type": "code",
   "execution_count": 52,
   "id": "fadbfbb2-4e0a-4b88-ba1f-e9feeff2c2b3",
   "metadata": {},
   "outputs": [
    {
     "data": {
      "text/plain": [
       "[3, [3.4, 6, 7], 'sudh']"
      ]
     },
     "execution_count": 52,
     "metadata": {},
     "output_type": "execute_result"
    }
   ],
   "source": [
    "k"
   ]
  },
  {
   "cell_type": "code",
   "execution_count": 1,
   "id": "e57c6f89-ee61-43d1-bd7b-db17c70e43f3",
   "metadata": {},
   "outputs": [],
   "source": [
    "hi = [1,2,3,4,5,6,7]"
   ]
  },
  {
   "cell_type": "code",
   "execution_count": 2,
   "id": "666e30c7-eef0-456a-94a1-6bc4626a8624",
   "metadata": {},
   "outputs": [],
   "source": [
    "hi.sort()"
   ]
  },
  {
   "cell_type": "code",
   "execution_count": 3,
   "id": "1ba05206-bcec-4bb6-a2d6-886a8d2bcd23",
   "metadata": {},
   "outputs": [
    {
     "data": {
      "text/plain": [
       "[1, 2, 3, 4, 5, 6, 7]"
      ]
     },
     "execution_count": 3,
     "metadata": {},
     "output_type": "execute_result"
    }
   ],
   "source": [
    "hi"
   ]
  },
  {
   "cell_type": "code",
   "execution_count": 4,
   "id": "67120121-14ca-474f-a66c-3b8cbb6e2aaf",
   "metadata": {},
   "outputs": [],
   "source": [
    "hi.reverse()"
   ]
  },
  {
   "cell_type": "code",
   "execution_count": 5,
   "id": "d0617042-b5ef-41a4-8254-18bc835c3b40",
   "metadata": {},
   "outputs": [
    {
     "data": {
      "text/plain": [
       "[7, 6, 5, 4, 3, 2, 1]"
      ]
     },
     "execution_count": 5,
     "metadata": {},
     "output_type": "execute_result"
    }
   ],
   "source": [
    "hi"
   ]
  },
  {
   "cell_type": "code",
   "execution_count": 6,
   "id": "bcf079c1-70fc-4720-828a-03b375a3457d",
   "metadata": {},
   "outputs": [],
   "source": [
    "hi.reverse()"
   ]
  },
  {
   "cell_type": "code",
   "execution_count": 7,
   "id": "cde034b7-737b-4a41-b367-c05505e016c2",
   "metadata": {},
   "outputs": [
    {
     "data": {
      "text/plain": [
       "[1, 2, 3, 4, 5, 6, 7]"
      ]
     },
     "execution_count": 7,
     "metadata": {},
     "output_type": "execute_result"
    }
   ],
   "source": [
    "hi"
   ]
  },
  {
   "cell_type": "code",
   "execution_count": 8,
   "id": "388f6697-4fd3-4377-89e8-ed07ebf87ee6",
   "metadata": {},
   "outputs": [],
   "source": [
    "l4=['sudh', 'pwskills' , 'kumar' , 'data scientist']"
   ]
  },
  {
   "cell_type": "code",
   "execution_count": 9,
   "id": "fdf32628-d095-4812-9785-803b4d8ba428",
   "metadata": {},
   "outputs": [
    {
     "data": {
      "text/plain": [
       "0"
      ]
     },
     "execution_count": 9,
     "metadata": {},
     "output_type": "execute_result"
    }
   ],
   "source": [
    "l4.index('sudh')"
   ]
  },
  {
   "cell_type": "code",
   "execution_count": 10,
   "id": "c0853ceb-5f90-4d9e-9660-50aa1af5cdab",
   "metadata": {},
   "outputs": [
    {
     "ename": "NameError",
     "evalue": "name 's' is not defined",
     "output_type": "error",
     "traceback": [
      "\u001b[0;31m---------------------------------------------------------------------------\u001b[0m",
      "\u001b[0;31mNameError\u001b[0m                                 Traceback (most recent call last)",
      "Cell \u001b[0;32mIn[10], line 1\u001b[0m\n\u001b[0;32m----> 1\u001b[0m \u001b[43ms\u001b[49m[\u001b[38;5;241m0\u001b[39m] \u001b[38;5;241m=\u001b[39m \u001b[38;5;124m'\u001b[39m\u001b[38;5;124ma\u001b[39m\u001b[38;5;124m'\u001b[39m\n",
      "\u001b[0;31mNameError\u001b[0m: name 's' is not defined"
     ]
    }
   ],
   "source": [
    "s[0] = 'a'"
   ]
  },
  {
   "cell_type": "code",
   "execution_count": 11,
   "id": "10bc5671-4151-4a94-a79e-867971c1fad6",
   "metadata": {},
   "outputs": [],
   "source": [
    "l5=[2,4,45]"
   ]
  },
  {
   "cell_type": "code",
   "execution_count": 12,
   "id": "6b0571a6-2877-474b-ae4b-1574e7a787c4",
   "metadata": {},
   "outputs": [],
   "source": [
    "l5[0] = 3"
   ]
  },
  {
   "cell_type": "code",
   "execution_count": 13,
   "id": "b3b93bb5-ae83-4cfd-87b0-a091faf0df80",
   "metadata": {},
   "outputs": [
    {
     "data": {
      "text/plain": [
       "[3, 4, 45]"
      ]
     },
     "execution_count": 13,
     "metadata": {},
     "output_type": "execute_result"
    }
   ],
   "source": [
    "l5"
   ]
  },
  {
   "cell_type": "code",
   "execution_count": 14,
   "id": "e3ecd73b-9c6b-4103-8b52-8c358c8857a4",
   "metadata": {},
   "outputs": [],
   "source": [
    "s='sudh'"
   ]
  },
  {
   "cell_type": "code",
   "execution_count": 15,
   "id": "86adc8d1-389e-4ed0-bcc7-6ffb6e198894",
   "metadata": {},
   "outputs": [
    {
     "ename": "TypeError",
     "evalue": "replace expected at least 2 arguments, got 0",
     "output_type": "error",
     "traceback": [
      "\u001b[0;31m---------------------------------------------------------------------------\u001b[0m",
      "\u001b[0;31mTypeError\u001b[0m                                 Traceback (most recent call last)",
      "Cell \u001b[0;32mIn[15], line 1\u001b[0m\n\u001b[0;32m----> 1\u001b[0m \u001b[43ms\u001b[49m\u001b[38;5;241;43m.\u001b[39;49m\u001b[43mreplace\u001b[49m\u001b[43m(\u001b[49m\u001b[43m)\u001b[49m\n",
      "\u001b[0;31mTypeError\u001b[0m: replace expected at least 2 arguments, got 0"
     ]
    }
   ],
   "source": [
    "s.replace()"
   ]
  },
  {
   "cell_type": "code",
   "execution_count": 16,
   "id": "adec1294-c636-4b6c-aa0a-3e3e6ca92a2e",
   "metadata": {},
   "outputs": [],
   "source": [
    "t=(15,8,'a', 6+5j)"
   ]
  },
  {
   "cell_type": "code",
   "execution_count": 17,
   "id": "dbac4c14-22c2-450f-bf6b-bb0f8d03a87f",
   "metadata": {},
   "outputs": [
    {
     "data": {
      "text/plain": [
       "tuple"
      ]
     },
     "execution_count": 17,
     "metadata": {},
     "output_type": "execute_result"
    }
   ],
   "source": [
    "type(t)"
   ]
  },
  {
   "cell_type": "code",
   "execution_count": 18,
   "id": "30c77495-8235-4f88-a107-6212ba326d49",
   "metadata": {},
   "outputs": [],
   "source": [
    "d = [5,5,]"
   ]
  },
  {
   "cell_type": "code",
   "execution_count": 19,
   "id": "d4b18d6f-f2a0-42be-b792-44468b2665bd",
   "metadata": {},
   "outputs": [
    {
     "data": {
      "text/plain": [
       "list"
      ]
     },
     "execution_count": 19,
     "metadata": {},
     "output_type": "execute_result"
    }
   ],
   "source": [
    "type(d)"
   ]
  },
  {
   "cell_type": "code",
   "execution_count": 20,
   "id": "1d06f29b-4abf-428e-9373-2ccb6d11c255",
   "metadata": {},
   "outputs": [
    {
     "ename": "TypeError",
     "evalue": "'tuple' object does not support item assignment",
     "output_type": "error",
     "traceback": [
      "\u001b[0;31m---------------------------------------------------------------------------\u001b[0m",
      "\u001b[0;31mTypeError\u001b[0m                                 Traceback (most recent call last)",
      "Cell \u001b[0;32mIn[20], line 1\u001b[0m\n\u001b[0;32m----> 1\u001b[0m \u001b[43mt\u001b[49m\u001b[43m[\u001b[49m\u001b[38;5;241;43m0\u001b[39;49m\u001b[43m]\u001b[49m \u001b[38;5;241m=\u001b[39m \u001b[38;5;124m'\u001b[39m\u001b[38;5;124msudh\u001b[39m\u001b[38;5;124m'\u001b[39m\n",
      "\u001b[0;31mTypeError\u001b[0m: 'tuple' object does not support item assignment"
     ]
    }
   ],
   "source": [
    "t[0] = 'sudh'"
   ]
  },
  {
   "cell_type": "code",
   "execution_count": 1,
   "id": "992e5f29-a3b2-4224-bcb6-c61927bd1870",
   "metadata": {},
   "outputs": [],
   "source": [
    "t=(1,2,'sudh',False, (2+3j))"
   ]
  },
  {
   "cell_type": "code",
   "execution_count": 2,
   "id": "6d2c6e39-fb6d-4cdb-95e0-dcf77a35da49",
   "metadata": {},
   "outputs": [
    {
     "data": {
      "text/plain": [
       "((2+3j), False, 'sudh', 2, 1)"
      ]
     },
     "execution_count": 2,
     "metadata": {},
     "output_type": "execute_result"
    }
   ],
   "source": [
    "t[::-1]"
   ]
  },
  {
   "cell_type": "code",
   "execution_count": 4,
   "id": "b622362f-26b3-464c-9605-d2562f0fa3ae",
   "metadata": {},
   "outputs": [
    {
     "data": {
      "text/plain": [
       "1"
      ]
     },
     "execution_count": 4,
     "metadata": {},
     "output_type": "execute_result"
    }
   ],
   "source": [
    "t.count(2)"
   ]
  },
  {
   "cell_type": "code",
   "execution_count": 5,
   "id": "728d7ca1-08f6-4b82-8bb3-a290d03ea543",
   "metadata": {},
   "outputs": [
    {
     "data": {
      "text/plain": [
       "False"
      ]
     },
     "execution_count": 5,
     "metadata": {},
     "output_type": "execute_result"
    }
   ],
   "source": [
    "t[-2]"
   ]
  },
  {
   "cell_type": "code",
   "execution_count": 6,
   "id": "f7332347-3ebd-4359-a66b-31f760e2c8b4",
   "metadata": {},
   "outputs": [],
   "source": [
    "l4 = {1,2}"
   ]
  },
  {
   "cell_type": "code",
   "execution_count": 7,
   "id": "64fa55fa-7433-4cbf-bcdc-66871485cff5",
   "metadata": {},
   "outputs": [
    {
     "data": {
      "text/plain": [
       "set"
      ]
     },
     "execution_count": 7,
     "metadata": {},
     "output_type": "execute_result"
    }
   ],
   "source": [
    "type(l4)"
   ]
  },
  {
   "cell_type": "code",
   "execution_count": 8,
   "id": "ed69024d-821b-42df-a52e-f2002347bdcd",
   "metadata": {},
   "outputs": [],
   "source": [
    "t=(1,2,False,True,[2,3,False], 3+6j)"
   ]
  },
  {
   "cell_type": "code",
   "execution_count": 10,
   "id": "f32e3209-6d44-4303-9a56-833b9a9479bd",
   "metadata": {},
   "outputs": [
    {
     "data": {
      "text/plain": [
       "tuple"
      ]
     },
     "execution_count": 10,
     "metadata": {},
     "output_type": "execute_result"
    }
   ],
   "source": [
    "type(t)"
   ]
  },
  {
   "cell_type": "code",
   "execution_count": 11,
   "id": "be1fab43-4580-4758-9d08-1535dbe73a4b",
   "metadata": {},
   "outputs": [
    {
     "data": {
      "text/plain": [
       "(3+6j)"
      ]
     },
     "execution_count": 11,
     "metadata": {},
     "output_type": "execute_result"
    }
   ],
   "source": [
    "t[-1]"
   ]
  },
  {
   "cell_type": "code",
   "execution_count": 12,
   "id": "99315235-5f7f-4209-86db-eaebfe96b2a8",
   "metadata": {},
   "outputs": [
    {
     "data": {
      "text/plain": [
       "3.0"
      ]
     },
     "execution_count": 12,
     "metadata": {},
     "output_type": "execute_result"
    }
   ],
   "source": [
    "t[-1].real"
   ]
  },
  {
   "cell_type": "code",
   "execution_count": 13,
   "id": "af5e0255-db95-4ce5-a09a-15a3e9108db2",
   "metadata": {},
   "outputs": [
    {
     "ename": "TypeError",
     "evalue": "'tuple' object does not support item assignment",
     "output_type": "error",
     "traceback": [
      "\u001b[0;31m---------------------------------------------------------------------------\u001b[0m",
      "\u001b[0;31mTypeError\u001b[0m                                 Traceback (most recent call last)",
      "Cell \u001b[0;32mIn[13], line 1\u001b[0m\n\u001b[0;32m----> 1\u001b[0m \u001b[43mt\u001b[49m\u001b[43m[\u001b[49m\u001b[38;5;241;43m1\u001b[39;49m\u001b[43m]\u001b[49m\u001b[38;5;241m=\u001b[39m\u001b[38;5;241m5\u001b[39m\n",
      "\u001b[0;31mTypeError\u001b[0m: 'tuple' object does not support item assignment"
     ]
    }
   ],
   "source": [
    "t[1]=5"
   ]
  },
  {
   "cell_type": "code",
   "execution_count": 14,
   "id": "5db1bae5-8747-4c3e-8307-f15c62954cf7",
   "metadata": {},
   "outputs": [
    {
     "data": {
      "text/plain": [
       "((3+6j), [2, 3, False], True, False, 2, 1)"
      ]
     },
     "execution_count": 14,
     "metadata": {},
     "output_type": "execute_result"
    }
   ],
   "source": [
    "t[::-1]"
   ]
  },
  {
   "cell_type": "code",
   "execution_count": 15,
   "id": "d31490e4-4913-4d95-9c7d-158288da866f",
   "metadata": {},
   "outputs": [
    {
     "data": {
      "text/plain": [
       "0"
      ]
     },
     "execution_count": 15,
     "metadata": {},
     "output_type": "execute_result"
    }
   ],
   "source": [
    "t.count(3)"
   ]
  },
  {
   "cell_type": "code",
   "execution_count": 16,
   "id": "d8388a42-67b9-4b0a-8521-d7becdeb5812",
   "metadata": {},
   "outputs": [
    {
     "data": {
      "text/plain": [
       "2"
      ]
     },
     "execution_count": 16,
     "metadata": {},
     "output_type": "execute_result"
    }
   ],
   "source": [
    "t.index(False)"
   ]
  },
  {
   "cell_type": "code",
   "execution_count": 17,
   "id": "a4d58d41-c523-45f3-9379-ad9562e5ed91",
   "metadata": {},
   "outputs": [],
   "source": [
    "s1={3,4}"
   ]
  },
  {
   "cell_type": "code",
   "execution_count": 18,
   "id": "e90a0475-e83e-4623-b945-65f221e200f6",
   "metadata": {},
   "outputs": [
    {
     "data": {
      "text/plain": [
       "set"
      ]
     },
     "execution_count": 18,
     "metadata": {},
     "output_type": "execute_result"
    }
   ],
   "source": [
    "type(s1)"
   ]
  },
  {
   "cell_type": "code",
   "execution_count": 19,
   "id": "2a883566-2ce7-4fdb-a527-e452e8250539",
   "metadata": {},
   "outputs": [],
   "source": [
    "s2={}"
   ]
  },
  {
   "cell_type": "code",
   "execution_count": 20,
   "id": "e1a7d38d-5d39-45d0-a446-fc64185f39cc",
   "metadata": {},
   "outputs": [
    {
     "data": {
      "text/plain": [
       "dict"
      ]
     },
     "execution_count": 20,
     "metadata": {},
     "output_type": "execute_result"
    }
   ],
   "source": [
    "type(s2)"
   ]
  },
  {
   "cell_type": "code",
   "execution_count": 21,
   "id": "163ba65e-ee97-46da-8c38-37124b203e52",
   "metadata": {},
   "outputs": [],
   "source": [
    "s2={2,3,4,5}"
   ]
  },
  {
   "cell_type": "code",
   "execution_count": 22,
   "id": "a3ee93a2-82f0-4e72-9569-a407dad1b828",
   "metadata": {},
   "outputs": [
    {
     "data": {
      "text/plain": [
       "set"
      ]
     },
     "execution_count": 22,
     "metadata": {},
     "output_type": "execute_result"
    }
   ],
   "source": [
    "type(s2)"
   ]
  },
  {
   "cell_type": "code",
   "execution_count": 24,
   "id": "a203aeba-1637-4a1c-b1ce-913cf86be010",
   "metadata": {},
   "outputs": [],
   "source": [
    "s4={2,False, (2,3)}"
   ]
  },
  {
   "cell_type": "code",
   "execution_count": 25,
   "id": "0cb7a4f4-e024-45bf-88b8-b3f08a3ad505",
   "metadata": {},
   "outputs": [
    {
     "data": {
      "text/plain": [
       "{(2, 3), 2, False}"
      ]
     },
     "execution_count": 25,
     "metadata": {},
     "output_type": "execute_result"
    }
   ],
   "source": [
    "s4"
   ]
  },
  {
   "cell_type": "code",
   "execution_count": 31,
   "id": "17d669f6-8a1b-49e0-92a1-4a44662962b9",
   "metadata": {},
   "outputs": [],
   "source": [
    "s5 = [2,3,4,5,6,2,3,4,5,6,23,2,3,4,5,6]"
   ]
  },
  {
   "cell_type": "code",
   "execution_count": 32,
   "id": "b8c00755-7907-4bcf-9ff6-46139b13bf34",
   "metadata": {},
   "outputs": [
    {
     "data": {
      "text/plain": [
       "[2, 3, 4, 5, 6, 2, 3, 4, 5, 6, 23, 2, 3, 4, 5, 6]"
      ]
     },
     "execution_count": 32,
     "metadata": {},
     "output_type": "execute_result"
    }
   ],
   "source": [
    "s5"
   ]
  },
  {
   "cell_type": "code",
   "execution_count": 33,
   "id": "3cf3828f-b5a2-45ef-bfba-bed30366f3c0",
   "metadata": {},
   "outputs": [
    {
     "data": {
      "text/plain": [
       "{2, 3, 4, 5, 6, 23}"
      ]
     },
     "execution_count": 33,
     "metadata": {},
     "output_type": "execute_result"
    }
   ],
   "source": [
    "set(s5)"
   ]
  },
  {
   "cell_type": "code",
   "execution_count": 29,
   "id": "4cb6a88d-0ca3-4fea-a65b-a18bf02a71ca",
   "metadata": {},
   "outputs": [
    {
     "data": {
      "text/plain": [
       "{1, 2, 'Roshan', 'roshan'}"
      ]
     },
     "execution_count": 29,
     "metadata": {},
     "output_type": "execute_result"
    }
   ],
   "source": [
    "s5"
   ]
  },
  {
   "cell_type": "code",
   "execution_count": 35,
   "id": "9660c418-28ad-4588-b0a6-00aa8a7734bc",
   "metadata": {},
   "outputs": [],
   "source": [
    "l4=[1,1,2,2,3,3,False,False,'Roshan','Roshan']"
   ]
  },
  {
   "cell_type": "code",
   "execution_count": 36,
   "id": "48b6b947-b7d7-47df-a7e2-f681cc50584b",
   "metadata": {},
   "outputs": [
    {
     "data": {
      "text/plain": [
       "[1, 1, 2, 2, 3, 3, False, False, 'Roshan', 'Roshan']"
      ]
     },
     "execution_count": 36,
     "metadata": {},
     "output_type": "execute_result"
    }
   ],
   "source": [
    "l4"
   ]
  },
  {
   "cell_type": "code",
   "execution_count": 37,
   "id": "ac6bad9b-cab0-4b4b-b23c-1bd8fbba68e8",
   "metadata": {},
   "outputs": [
    {
     "data": {
      "text/plain": [
       "{1, 2, 3, False, 'Roshan'}"
      ]
     },
     "execution_count": 37,
     "metadata": {},
     "output_type": "execute_result"
    }
   ],
   "source": [
    "set(l4)"
   ]
  },
  {
   "cell_type": "code",
   "execution_count": 38,
   "id": "e7e09f3b-9cd5-4e29-9120-121a58fec07e",
   "metadata": {},
   "outputs": [],
   "source": [
    "l4=list(set(l4))"
   ]
  },
  {
   "cell_type": "code",
   "execution_count": 39,
   "id": "b0943705-a7dc-4934-b179-1491d2c76591",
   "metadata": {},
   "outputs": [
    {
     "data": {
      "text/plain": [
       "[False, 1, 2, 3, 'Roshan']"
      ]
     },
     "execution_count": 39,
     "metadata": {},
     "output_type": "execute_result"
    }
   ],
   "source": [
    "l4"
   ]
  },
  {
   "cell_type": "code",
   "execution_count": 40,
   "id": "21f04691-35b2-471d-8430-fd8b5e024714",
   "metadata": {},
   "outputs": [],
   "source": [
    "l5={1,2,3}"
   ]
  },
  {
   "cell_type": "code",
   "execution_count": 41,
   "id": "c3a1064e-f35c-4a72-8428-d3cb2b449832",
   "metadata": {},
   "outputs": [
    {
     "ename": "TypeError",
     "evalue": "'set' object does not support item assignment",
     "output_type": "error",
     "traceback": [
      "\u001b[0;31m---------------------------------------------------------------------------\u001b[0m",
      "\u001b[0;31mTypeError\u001b[0m                                 Traceback (most recent call last)",
      "Cell \u001b[0;32mIn[41], line 1\u001b[0m\n\u001b[0;32m----> 1\u001b[0m \u001b[43ml5\u001b[49m\u001b[43m[\u001b[49m\u001b[38;5;241;43m0\u001b[39;49m\u001b[43m]\u001b[49m \u001b[38;5;241m=\u001b[39m \u001b[38;5;241m2\u001b[39m\n",
      "\u001b[0;31mTypeError\u001b[0m: 'set' object does not support item assignment"
     ]
    }
   ],
   "source": [
    "l5[0] = 2"
   ]
  },
  {
   "cell_type": "code",
   "execution_count": 50,
   "id": "4bee74d6-03ad-48b3-bf8e-2220e01bb610",
   "metadata": {},
   "outputs": [],
   "source": [
    "s2={0,12,13,2,4,True,'abc'}"
   ]
  },
  {
   "cell_type": "code",
   "execution_count": 51,
   "id": "0ddcbac5-ea65-4089-9aa8-e08e895ada2c",
   "metadata": {},
   "outputs": [
    {
     "data": {
      "text/plain": [
       "{0, 12, 13, 2, 4, True, 'abc'}"
      ]
     },
     "execution_count": 51,
     "metadata": {},
     "output_type": "execute_result"
    }
   ],
   "source": [
    "s2"
   ]
  },
  {
   "cell_type": "code",
   "execution_count": 52,
   "id": "f917c7a6-7160-48dd-8aa0-4156434a7154",
   "metadata": {},
   "outputs": [
    {
     "ename": "TypeError",
     "evalue": "'set' object is not subscriptable",
     "output_type": "error",
     "traceback": [
      "\u001b[0;31m---------------------------------------------------------------------------\u001b[0m",
      "\u001b[0;31mTypeError\u001b[0m                                 Traceback (most recent call last)",
      "Cell \u001b[0;32mIn[52], line 1\u001b[0m\n\u001b[0;32m----> 1\u001b[0m \u001b[43ms2\u001b[49m\u001b[43m[\u001b[49m\u001b[38;5;241;43m0\u001b[39;49m\u001b[43m]\u001b[49m\n",
      "\u001b[0;31mTypeError\u001b[0m: 'set' object is not subscriptable"
     ]
    }
   ],
   "source": [
    "s2[0]"
   ]
  },
  {
   "cell_type": "code",
   "execution_count": 53,
   "id": "8f28366f-123a-4dfd-8f49-728a357b79a5",
   "metadata": {},
   "outputs": [
    {
     "data": {
      "text/plain": [
       "{0, 12, 13, 2, 4, True, 'abc'}"
      ]
     },
     "execution_count": 53,
     "metadata": {},
     "output_type": "execute_result"
    }
   ],
   "source": [
    "s2"
   ]
  },
  {
   "cell_type": "code",
   "execution_count": 56,
   "id": "770d158d-614d-42cd-8394-d52d424b6d97",
   "metadata": {},
   "outputs": [],
   "source": [
    "s2.add(23)"
   ]
  },
  {
   "cell_type": "code",
   "execution_count": 57,
   "id": "1df9795d-278e-4aa1-9f63-748f1e37ebf7",
   "metadata": {},
   "outputs": [
    {
     "data": {
      "text/plain": [
       "{0, 12, 13, 2, 23, 4, True, 'abc'}"
      ]
     },
     "execution_count": 57,
     "metadata": {},
     "output_type": "execute_result"
    }
   ],
   "source": [
    "s2"
   ]
  },
  {
   "cell_type": "code",
   "execution_count": 58,
   "id": "a9366541-ba76-439b-ada0-63da8028bb6e",
   "metadata": {},
   "outputs": [],
   "source": [
    "s2.remove(23)"
   ]
  },
  {
   "cell_type": "code",
   "execution_count": 59,
   "id": "8098ae19-5092-45ac-8dd0-9c3bd68bc292",
   "metadata": {},
   "outputs": [
    {
     "data": {
      "text/plain": [
       "{0, 12, 13, 2, 4, True, 'abc'}"
      ]
     },
     "execution_count": 59,
     "metadata": {},
     "output_type": "execute_result"
    }
   ],
   "source": [
    "s2"
   ]
  },
  {
   "cell_type": "code",
   "execution_count": 5,
   "id": "b55aa76d-2f66-47fd-9cd8-1e2ba3bdc31d",
   "metadata": {},
   "outputs": [],
   "source": [
    "D6 = {\"NUMBER\" : [12,13,2,3] , \"ASSIGNments\" : (1,2,3) , \"launch-date\" : {12,23,3}, \"Class timint\" : {\"Java with the system design\" : 7}}"
   ]
  },
  {
   "cell_type": "code",
   "execution_count": 8,
   "id": "f68b4736-6c1a-4f08-944c-dfdd16f4287f",
   "metadata": {},
   "outputs": [
    {
     "data": {
      "text/plain": [
       "{'NUMBER': [12, 13, 2, 3],\n",
       " 'ASSIGNments': (1, 2, 3),\n",
       " 'launch-date': {3, 12, 23},\n",
       " 'Class timint': {'Java with the system design': 7}}"
      ]
     },
     "execution_count": 8,
     "metadata": {},
     "output_type": "execute_result"
    }
   ],
   "source": [
    "D6"
   ]
  },
  {
   "cell_type": "code",
   "execution_count": 9,
   "id": "d69e2d19-6c28-40aa-97a3-520ba6c15a0e",
   "metadata": {},
   "outputs": [
    {
     "data": {
      "text/plain": [
       "{'NUMBER': [12, 13, 2, 3],\n",
       " 'ASSIGNments': (1, 2, 3),\n",
       " 'launch-date': {3, 12, 23},\n",
       " 'Class timint': {'Java with the system design': 7}}"
      ]
     },
     "execution_count": 9,
     "metadata": {},
     "output_type": "execute_result"
    }
   ],
   "source": [
    "D6"
   ]
  },
  {
   "cell_type": "code",
   "execution_count": 10,
   "id": "3a830fc3-e359-43e9-8c04-e1699c99b4a2",
   "metadata": {},
   "outputs": [
    {
     "data": {
      "text/plain": [
       "7"
      ]
     },
     "execution_count": 10,
     "metadata": {},
     "output_type": "execute_result"
    }
   ],
   "source": [
    "D6['Class timint']['Java with the system design']"
   ]
  },
  {
   "cell_type": "code",
   "execution_count": 11,
   "id": "6d413122-dd2f-4fb6-b765-61546c7f08cd",
   "metadata": {},
   "outputs": [],
   "source": [
    "del D6['NUMBER']"
   ]
  },
  {
   "cell_type": "code",
   "execution_count": 12,
   "id": "6f023523-9338-4e36-a096-f299caa50ec1",
   "metadata": {},
   "outputs": [
    {
     "data": {
      "text/plain": [
       "{'ASSIGNments': (1, 2, 3),\n",
       " 'launch-date': {3, 12, 23},\n",
       " 'Class timint': {'Java with the system design': 7}}"
      ]
     },
     "execution_count": 12,
     "metadata": {},
     "output_type": "execute_result"
    }
   ],
   "source": [
    "D6"
   ]
  },
  {
   "cell_type": "code",
   "execution_count": 15,
   "id": "12df9c5d-5bed-4f9f-88d7-4f4ca3a4cead",
   "metadata": {},
   "outputs": [
    {
     "data": {
      "text/plain": [
       "dict_keys(['ASSIGNments', 'launch-date', 'Class timint'])"
      ]
     },
     "execution_count": 15,
     "metadata": {},
     "output_type": "execute_result"
    }
   ],
   "source": [
    "D6.keys()"
   ]
  },
  {
   "cell_type": "code",
   "execution_count": null,
   "id": "bf686bba-dbad-4161-b820-8a258e6c0940",
   "metadata": {},
   "outputs": [],
   "source": []
  },
  {
   "cell_type": "code",
   "execution_count": 17,
   "id": "a33b01c2-9d38-4847-80f9-4ed1430eee1d",
   "metadata": {},
   "outputs": [
    {
     "data": {
      "text/plain": [
       "{'ASSIGNments': (1, 2, 3),\n",
       " 'launch-date': {3, 12, 23},\n",
       " 'Class timint': {'Java with the system design': 7}}"
      ]
     },
     "execution_count": 17,
     "metadata": {},
     "output_type": "execute_result"
    }
   ],
   "source": [
    "D6"
   ]
  },
  {
   "cell_type": "code",
   "execution_count": 18,
   "id": "e7f6a125-5d84-48cc-b8c2-7d8deb99d527",
   "metadata": {},
   "outputs": [
    {
     "data": {
      "text/plain": [
       "{'ASSIGNments': (1, 2, 3),\n",
       " 'launch-date': {3, 12, 23},\n",
       " 'Class timint': {'Java with the system design': 7}}"
      ]
     },
     "execution_count": 18,
     "metadata": {},
     "output_type": "execute_result"
    }
   ],
   "source": [
    "D6"
   ]
  },
  {
   "cell_type": "code",
   "execution_count": 19,
   "id": "72394674-442e-49ff-b0d2-c75c45f83792",
   "metadata": {},
   "outputs": [
    {
     "data": {
      "text/plain": [
       "dict_keys(['ASSIGNments', 'launch-date', 'Class timint'])"
      ]
     },
     "execution_count": 19,
     "metadata": {},
     "output_type": "execute_result"
    }
   ],
   "source": [
    "D6.keys()"
   ]
  },
  {
   "cell_type": "code",
   "execution_count": 20,
   "id": "404e81f9-e508-4060-bf05-3b057d59d5e0",
   "metadata": {},
   "outputs": [
    {
     "data": {
      "text/plain": [
       "['ASSIGNments', 'launch-date', 'Class timint']"
      ]
     },
     "execution_count": 20,
     "metadata": {},
     "output_type": "execute_result"
    }
   ],
   "source": [
    "list (D6.keys())"
   ]
  },
  {
   "cell_type": "code",
   "execution_count": 21,
   "id": "66947fcb-70d3-47fd-a767-397134a922f8",
   "metadata": {},
   "outputs": [
    {
     "data": {
      "text/plain": [
       "dict_items([('ASSIGNments', (1, 2, 3)), ('launch-date', {3, 12, 23}), ('Class timint', {'Java with the system design': 7})])"
      ]
     },
     "execution_count": 21,
     "metadata": {},
     "output_type": "execute_result"
    }
   ],
   "source": [
    "D6.items()"
   ]
  },
  {
   "cell_type": "code",
   "execution_count": 22,
   "id": "4ea0e8b5-bc8f-467c-8a11-f9308f028e02",
   "metadata": {},
   "outputs": [
    {
     "data": {
      "text/plain": [
       "[('ASSIGNments', (1, 2, 3)),\n",
       " ('launch-date', {3, 12, 23}),\n",
       " ('Class timint', {'Java with the system design': 7})]"
      ]
     },
     "execution_count": 22,
     "metadata": {},
     "output_type": "execute_result"
    }
   ],
   "source": [
    "list (D6.items())"
   ]
  },
  {
   "cell_type": "code",
   "execution_count": 24,
   "id": "ed1e616c-136c-44e6-9f25-e44595c9a0ea",
   "metadata": {},
   "outputs": [
    {
     "ename": "SyntaxError",
     "evalue": "invalid syntax (4111283603.py, line 1)",
     "output_type": "error",
     "traceback": [
      "\u001b[0;36m  Cell \u001b[0;32mIn[24], line 1\u001b[0;36m\u001b[0m\n\u001b[0;31m    D6.update(\"POP\" : \"add kr do\")\u001b[0m\n\u001b[0m                    ^\u001b[0m\n\u001b[0;31mSyntaxError\u001b[0m\u001b[0;31m:\u001b[0m invalid syntax\n"
     ]
    }
   ],
   "source": [
    "D6.update(\"POP\" : \"add kr do\")"
   ]
  },
  {
   "cell_type": "code",
   "execution_count": 25,
   "id": "d2a345eb-9df7-44f2-a4f0-eba9e08af78b",
   "metadata": {},
   "outputs": [
    {
     "data": {
      "text/plain": [
       "(1, 2, 3)"
      ]
     },
     "execution_count": 25,
     "metadata": {},
     "output_type": "execute_result"
    }
   ],
   "source": [
    "D6.pop('ASSIGNments')"
   ]
  },
  {
   "cell_type": "code",
   "execution_count": 28,
   "id": "14d3bcca-8f05-472b-8da1-1b5803064643",
   "metadata": {},
   "outputs": [
    {
     "data": {
      "text/plain": [
       "{'launch-date': {3, 12, 23},\n",
       " 'Class timint': {'Java with the system design': 7}}"
      ]
     },
     "execution_count": 28,
     "metadata": {},
     "output_type": "execute_result"
    }
   ],
   "source": [
    "D6"
   ]
  },
  {
   "cell_type": "code",
   "execution_count": 9,
   "id": "87519078-b9e5-41c4-9c78-c5fe50b9a829",
   "metadata": {},
   "outputs": [
    {
     "name": "stdin",
     "output_type": "stream",
     "text": [
      " enter your number here 12\n"
     ]
    },
    {
     "name": "stdout",
     "output_type": "stream",
     "text": [
      "You are part of the A3 batch\n"
     ]
    }
   ],
   "source": [
    "marks = int(input(\" enter your number here\"))\n",
    "if marks >= 80 :\n",
    "    print(\" you are part of the top batch\")\n",
    "elif marks >=60 and marks<80 :\n",
    "    print(\"You are part of the A1 batch\")\n",
    "elif marks >=40 and marks<60 :\n",
    "    print(\"You are part of the A2 batch\")\n",
    "else:\n",
    "          print(\"You are part of the A3 batch\")"
   ]
  },
  {
   "cell_type": "code",
   "execution_count": 6,
   "id": "d61b9813-9cd2-4f10-8d19-f7c35eba373a",
   "metadata": {},
   "outputs": [
    {
     "name": "stdin",
     "output_type": "stream",
     "text": [
      " enter your number here 4\n"
     ]
    }
   ],
   "source": [
    "marks = bool(input(\" enter your number here\"))"
   ]
  },
  {
   "cell_type": "code",
   "execution_count": 7,
   "id": "1236447f-9887-4157-bcb3-f7a37568ad13",
   "metadata": {},
   "outputs": [
    {
     "data": {
      "text/plain": [
       "True"
      ]
     },
     "execution_count": 7,
     "metadata": {},
     "output_type": "execute_result"
    }
   ],
   "source": [
    "marks"
   ]
  },
  {
   "cell_type": "code",
   "execution_count": 10,
   "id": "ef918aa8-f3e7-47ba-8997-2320c7b74df5",
   "metadata": {},
   "outputs": [
    {
     "name": "stdout",
     "output_type": "stream",
     "text": [
      "Kahe tohse sajana tohri dulhaniya\n"
     ]
    }
   ],
   "source": [
    "print(\"Kahe tohse sajana tohri dulhaniya\")"
   ]
  },
  {
   "cell_type": "code",
   "execution_count": 13,
   "id": "61d70808-667c-436a-a201-8726f9e92c79",
   "metadata": {},
   "outputs": [
    {
     "name": "stdin",
     "output_type": "stream",
     "text": [
      "enter the price of commoditity 300\n"
     ]
    },
    {
     "name": "stdout",
     "output_type": "stream",
     "text": [
      "I will buy the item\n"
     ]
    }
   ],
   "source": [
    "price = int(input(\"enter the price of commoditity\"))\n",
    "if price <500:\n",
    "    print(\"I will buy the item\")\n",
    "else:\n",
    "    print(\"I will not buy it\")"
   ]
  },
  {
   "cell_type": "code",
   "execution_count": 16,
   "id": "2f42a1f5-be29-4f09-82e2-5d03283239ff",
   "metadata": {},
   "outputs": [
    {
     "name": "stdin",
     "output_type": "stream",
     "text": [
      "enter the price of commoditity 4\n"
     ]
    },
    {
     "name": "stdout",
     "output_type": "stream",
     "text": [
      "I will buy the item\n",
      "I will not buy it\n"
     ]
    }
   ],
   "source": [
    "price = int(input(\"enter the price of commoditity\"))\n",
    "if price <1000:\n",
    "    print(\"I will buy the item\")\n",
    "    if price <500:\n",
    "        print(\"I will not buy it\")\n",
    "    elif price < 400:\n",
    "        print(\"marb\")\n",
    "        \n",
    "    "
   ]
  },
  {
   "cell_type": "code",
   "execution_count": 17,
   "id": "18a47bd3-8ee0-46a9-938a-8963fac8c7f3",
   "metadata": {},
   "outputs": [],
   "source": [
    "\n"
   ]
  },
  {
   "cell_type": "code",
   "execution_count": 18,
   "id": "44051ac2-346f-4512-bc62-7d14e735f5cc",
   "metadata": {},
   "outputs": [
    {
     "name": "stdout",
     "output_type": "stream",
     "text": [
      "1\n",
      "2\n",
      "3\n",
      "4\n",
      "5\n",
      "6\n",
      "7\n",
      "8\n",
      "9\n"
     ]
    }
   ],
   "source": [
    "for i in l :\n",
    "    print(i)"
   ]
  },
  {
   "cell_type": "code",
   "execution_count": 31,
   "id": "b66cb741-0be4-467b-aeaa-77d05ef6efcb",
   "metadata": {},
   "outputs": [
    {
     "data": {
      "text/plain": [
       "[2, 3, 4, 5, 6, 7, 8, 9, 10]"
      ]
     },
     "execution_count": 31,
     "metadata": {},
     "output_type": "execute_result"
    }
   ],
   "source": [
    "l = [1,2,3,4,5,6,7,8,9]\n",
    "l2 = []\n",
    "for i in l:\n",
    "    i=i+1\n",
    "    l2.append(i)\n",
    "l2"
   ]
  },
  {
   "cell_type": "code",
   "execution_count": 32,
   "id": "c1d238a8-9bad-4e86-9fa9-fa19733ab3ad",
   "metadata": {},
   "outputs": [
    {
     "data": {
      "text/plain": [
       "[2, 3, 4, 5, 6, 7, 8, 9, 10]"
      ]
     },
     "execution_count": 32,
     "metadata": {},
     "output_type": "execute_result"
    }
   ],
   "source": [
    "l2"
   ]
  },
  {
   "cell_type": "code",
   "execution_count": 34,
   "id": "0aae7ee7-c055-4a0b-8c15-5f238fda4e16",
   "metadata": {},
   "outputs": [],
   "source": [
    "l3=['sudh', 'pwskills','course','kumar']\n"
   ]
  },
  {
   "cell_type": "code",
   "execution_count": 35,
   "id": "4bf677c5-9ef8-45f0-8024-01e9e72b9aa5",
   "metadata": {},
   "outputs": [
    {
     "name": "stdout",
     "output_type": "stream",
     "text": [
      "sudh\n",
      "pwskills\n",
      "course\n",
      "kumar\n"
     ]
    }
   ],
   "source": [
    "l5=[]\n",
    "for i in l3:\n",
    "    print(i)\n",
    "    l5.append(i.upper())\n",
    "    "
   ]
  },
  {
   "cell_type": "code",
   "execution_count": 36,
   "id": "2e1aa23a-027b-4397-b3a5-eeed40a54f80",
   "metadata": {},
   "outputs": [
    {
     "data": {
      "text/plain": [
       "['SUDH', 'PWSKILLS', 'COURSE', 'KUMAR']"
      ]
     },
     "execution_count": 36,
     "metadata": {},
     "output_type": "execute_result"
    }
   ],
   "source": [
    "l5"
   ]
  },
  {
   "cell_type": "code",
   "execution_count": 37,
   "id": "483938d8-6614-46c3-a792-135765402c98",
   "metadata": {},
   "outputs": [],
   "source": [
    "l = [1,2,3,3,4,4,'sudh','kumar',324,34.456,'abc']"
   ]
  },
  {
   "cell_type": "code",
   "execution_count": 51,
   "id": "17d58d22-9f6c-4b83-8b6d-6453463cfaa2",
   "metadata": {},
   "outputs": [],
   "source": [
    "l3=[]\n",
    "l2 = []\n",
    "\n",
    "for i in l:\n",
    "    if type(i) == str  :\n",
    "        \n",
    "        \n",
    "        l2.append(i)\n",
    "    else :\n",
    "        l3.append(i)\n",
    "        "
   ]
  },
  {
   "cell_type": "code",
   "execution_count": 43,
   "id": "9fe68d68-5fb7-4290-b7f8-d9462040beda",
   "metadata": {},
   "outputs": [],
   "source": [
    "n =\"trive\""
   ]
  },
  {
   "cell_type": "code",
   "execution_count": 44,
   "id": "1ae612e7-3d2d-4fd9-bbc3-66f25d5e8a25",
   "metadata": {},
   "outputs": [
    {
     "data": {
      "text/plain": [
       "str"
      ]
     },
     "execution_count": 44,
     "metadata": {},
     "output_type": "execute_result"
    }
   ],
   "source": [
    "type(n)"
   ]
  },
  {
   "cell_type": "code",
   "execution_count": 48,
   "id": "737cd088-45f7-4674-a020-b803d46dd54f",
   "metadata": {},
   "outputs": [
    {
     "data": {
      "text/plain": [
       "[1, 2, 3, 3, 4, 4, 324, 34.456]"
      ]
     },
     "execution_count": 48,
     "metadata": {},
     "output_type": "execute_result"
    }
   ],
   "source": [
    "l3"
   ]
  },
  {
   "cell_type": "code",
   "execution_count": 49,
   "id": "0ed5878d-0f0e-483e-9c88-488dd29d91ce",
   "metadata": {},
   "outputs": [
    {
     "data": {
      "text/plain": [
       "['sudh', 'kumar', 'abc']"
      ]
     },
     "execution_count": 49,
     "metadata": {},
     "output_type": "execute_result"
    }
   ],
   "source": [
    "l2"
   ]
  },
  {
   "cell_type": "code",
   "execution_count": null,
   "id": "3b7d138d-b96b-411f-94fb-113c0e2d6db0",
   "metadata": {},
   "outputs": [],
   "source": []
  }
 ],
 "metadata": {
  "kernelspec": {
   "display_name": "Python 3 (ipykernel)",
   "language": "python",
   "name": "python3"
  },
  "language_info": {
   "codemirror_mode": {
    "name": "ipython",
    "version": 3
   },
   "file_extension": ".py",
   "mimetype": "text/x-python",
   "name": "python",
   "nbconvert_exporter": "python",
   "pygments_lexer": "ipython3",
   "version": "3.10.8"
  }
 },
 "nbformat": 4,
 "nbformat_minor": 5
}
